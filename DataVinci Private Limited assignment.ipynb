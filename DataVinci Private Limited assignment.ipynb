{
 "cells": [
  {
   "cell_type": "markdown",
   "id": "6852ef05",
   "metadata": {},
   "source": [
    "YouTube Video Link-https://youtu.be/xpv4dOHnBNc\n",
    "    \n",
    "Reason behind choosing this- The video explains the basic concept of demand and supply strategies.As it is a prediction based decision\n",
    "it need the historical data to predict the price in which we enter in to the trade."
   ]
  },
  {
   "cell_type": "markdown",
   "id": "6aba40f2",
   "metadata": {},
   "source": [
    "# EXAMPLE\n"
   ]
  },
  {
   "cell_type": "code",
   "execution_count": 1,
   "id": "1679b6f1",
   "metadata": {},
   "outputs": [
    {
     "name": "stdout",
     "output_type": "stream",
     "text": [
      "Recommended entry price: 88.79166666666666\n"
     ]
    }
   ],
   "source": [
    "def find_demand_supply_levels(prices):\n",
    "    # Implement your logic to identify demand and supply levels\n",
    "    # This can be based on historical price analysis, identifying support and resistance levels, etc.\n",
    "    # For this example, let's assume the input 'prices' is a list of historical prices.\n",
    "    # You may want to replace this with your actual data or data retrieval methods.\n",
    "    \n",
    "    # Here, we'll use a simple approach to find demand and supply levels:\n",
    "    demand_levels = []\n",
    "    supply_levels = []\n",
    "    for i in range(1, len(prices) - 1):\n",
    "        if prices[i] < prices[i-1] and prices[i] < prices[i+1]:\n",
    "            demand_levels.append(prices[i])\n",
    "        elif prices[i] > prices[i-1] and prices[i] > prices[i+1]:\n",
    "            supply_levels.append(prices[i])\n",
    "    \n",
    "    return demand_levels, supply_levels\n",
    "\n",
    "def calculate_entry_price(demand_levels, supply_levels):\n",
    "    # Implement your logic to calculate the entry price\n",
    "    # This can be based on specific rules, averaging, or any other strategy presented in the video.\n",
    "    \n",
    "    # For this example, we'll use a simple average of the demand and supply levels:\n",
    "    avg_demand = sum(demand_levels) / len(demand_levels)\n",
    "    avg_supply = sum(supply_levels) / len(supply_levels)\n",
    "    entry_price = (avg_demand + avg_supply) / 2\n",
    "    \n",
    "    return entry_price\n",
    "\n",
    "# Example usage:\n",
    "# Replace the 'prices' list with your actual historical price data or data retrieval methods.\n",
    "prices = [100, 110, 120, 90, 95, 80, 105, 100, 90, 85,65,56,89,76]\n",
    "demand_levels, supply_levels = find_demand_supply_levels(prices)\n",
    "entry_price = calculate_entry_price(demand_levels, supply_levels)\n",
    "\n",
    "print(\"Recommended entry price:\", entry_price)"
   ]
  },
  {
   "cell_type": "code",
   "execution_count": null,
   "id": "a1f8aacc",
   "metadata": {},
   "outputs": [],
   "source": []
  }
 ],
 "metadata": {
  "kernelspec": {
   "display_name": "Python 3 (ipykernel)",
   "language": "python",
   "name": "python3"
  },
  "language_info": {
   "codemirror_mode": {
    "name": "ipython",
    "version": 3
   },
   "file_extension": ".py",
   "mimetype": "text/x-python",
   "name": "python",
   "nbconvert_exporter": "python",
   "pygments_lexer": "ipython3",
   "version": "3.9.13"
  }
 },
 "nbformat": 4,
 "nbformat_minor": 5
}
